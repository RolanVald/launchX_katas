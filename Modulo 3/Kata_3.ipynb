{
 "cells": [
  {
   "cell_type": "markdown",
   "metadata": {},
   "source": [
    "# Ejercicio - Escribir declaraciones `if`, `else`, y `elif`"
   ]
  },
  {
   "cell_type": "markdown",
   "metadata": {},
   "source": [
    "1) Velocidad del asteriode."
   ]
  },
  {
   "cell_type": "code",
   "execution_count": 3,
   "metadata": {},
   "outputs": [
    {
     "name": "stdout",
     "output_type": "stream",
     "text": [
      "Advertencia\n"
     ]
    }
   ],
   "source": [
    "velocidadAsteroide = 28\n",
    "\n",
    "if velocidadAsteroide > 25:\n",
    "    print('Advertencia')\n",
    "else :\n",
    "    print('Todo correcto')"
   ]
  },
  {
   "cell_type": "markdown",
   "metadata": {},
   "source": [
    "2) Asteroide entrando a la tierra."
   ]
  },
  {
   "cell_type": "code",
   "execution_count": 5,
   "metadata": {},
   "outputs": [
    {
     "name": "stdout",
     "output_type": "stream",
     "text": [
      "Sal a la calle, algo mágico pasará!!!\n"
     ]
    }
   ],
   "source": [
    "velocidad = 25\n",
    "\n",
    "if velocidad > 20:\n",
    "    print('Sal a la calle, algo mágico pasará!!!')\n",
    "elif velocidad == 20:\n",
    "    print('Sal a la calle, algo mágico pasará!!!')\n",
    "else:\n",
    "    print('Nada que ver.')"
   ]
  },
  {
   "cell_type": "markdown",
   "metadata": {},
   "source": [
    "3) Velocidad y tamaño de asteroide"
   ]
  },
  {
   "cell_type": "code",
   "execution_count": 6,
   "metadata": {},
   "outputs": [
    {
     "name": "stdout",
     "output_type": "stream",
     "text": [
      "Sal a la calle, algo mágico pasará!!!\n"
     ]
    }
   ],
   "source": [
    "velocidadAsteroide = 25\n",
    "tamanioAsteroide = 40\n",
    "\n",
    "if velocidadAsteroide > 25 and tamanioAsteroide > 25:\n",
    "    print('¡Cuidado, el asteroide es muy peligroso!')\n",
    "elif velocidadAsteroide >= 20:\n",
    "    print('Sal a la calle, algo mágico pasará!!!')\n",
    "elif tamanioAsteroide < 25:\n",
    "    print('Todo ok')\n",
    "else:\n",
    "    print('Todo ok')\n"
   ]
  }
 ],
 "metadata": {
  "interpreter": {
   "hash": "669f5abd92f1a410df15b0643b9f42360e277a412fc08ae8bc7d7911cf7e8f3d"
  },
  "kernelspec": {
   "display_name": "Python 3.10.2 64-bit",
   "language": "python",
   "name": "python3"
  },
  "language_info": {
   "codemirror_mode": {
    "name": "ipython",
    "version": 3
   },
   "file_extension": ".py",
   "mimetype": "text/x-python",
   "name": "python",
   "nbconvert_exporter": "python",
   "pygments_lexer": "ipython3",
   "version": "3.10.2"
  },
  "orig_nbformat": 4
 },
 "nbformat": 4,
 "nbformat_minor": 2
}
