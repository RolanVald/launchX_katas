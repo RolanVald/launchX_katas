{
 "cells": [
  {
   "cell_type": "markdown",
   "metadata": {},
   "source": [
    "# Ejercicio 1: Trabajar con argumentos en funciones"
   ]
  },
  {
   "cell_type": "code",
   "execution_count": 7,
   "metadata": {},
   "outputs": [
    {
     "name": "stdout",
     "output_type": "stream",
     "text": [
      "\n",
      "    Reporte de gasolina:\n",
      "    \n",
      "    Tanque 1 : 156 %\n",
      "    Tanque 2 : 147 %\n",
      "    Tanque 3 : 16 %\n",
      "\n",
      "    promedio : 106.33333333333333 %\n",
      "    \n"
     ]
    }
   ],
   "source": [
    "def promedioFunct( values ):\n",
    "    total = sum(values)\n",
    "    items = len(values)\n",
    "    return total / items\n",
    "\n",
    "def generarReporte(tank1, tank2, tank3):\n",
    "    promedio = (tank1 + tank2 + tank3) / 3\n",
    "    return f\"\"\"\n",
    "    Reporte de gasolina:\n",
    "    \n",
    "    Tanque 1 : {tank1} %\n",
    "    Tanque 2 : {tank2} %\n",
    "    Tanque 3 : {tank3} %\n",
    "\n",
    "    promedio : {promedioFunct( [tank1, tank2, tank3] )} %\n",
    "    \"\"\"\n",
    "\n",
    "print( generarReporte(156,147,16) )"
   ]
  },
  {
   "cell_type": "markdown",
   "metadata": {},
   "source": [
    "# Ejercicio : Trabajar con argumentos de palabras clave en funciones"
   ]
  },
  {
   "cell_type": "markdown",
   "metadata": {},
   "source": [
    "1) un informe de cohete que requiere varias piezas de información"
   ]
  },
  {
   "cell_type": "code",
   "execution_count": 8,
   "metadata": {},
   "outputs": [
    {
     "name": "stdout",
     "output_type": "stream",
     "text": [
      "\n",
      "    Mission a Moon\n",
      "    Tiempo de viaje: 65 minutos\n",
      "    Total gasolina: 500000 galons\n",
      "    \n"
     ]
    }
   ],
   "source": [
    "\n",
    "def informeMision( hora_lanzamiento, tiempo_vuelo, destino, tanque_externo, tanque_interno ):\n",
    "    return f\"\"\"\n",
    "    Mission a {destino}\n",
    "    Tiempo de viaje: {hora_lanzamiento + tiempo_vuelo} minutos\n",
    "    Total gasolina: {tanque_externo + tanque_interno} galons\n",
    "    \"\"\"\n",
    "\n",
    "print(informeMision(14, 51, \"Moon\", 200000, 300000))\n"
   ]
  },
  {
   "cell_type": "markdown",
   "metadata": {},
   "source": [
    "2) Hazlo más flexible permitiendo"
   ]
  },
  {
   "cell_type": "code",
   "execution_count": 9,
   "metadata": {},
   "outputs": [
    {
     "name": "stdout",
     "output_type": "stream",
     "text": [
      "\n",
      "    Mission a Moon\n",
      "    Tiempo de viaje: 76 minutos\n",
      "    Total gasolina: 500000 galons\n",
      "    \n"
     ]
    }
   ],
   "source": [
    "def informeMision( destino, *minutos, **reservas_conbustible ):\n",
    "    return f\"\"\"\n",
    "    Mission a {destino}\n",
    "    Tiempo de viaje: {sum(minutos)} minutos\n",
    "    Total gasolina: {sum(reservas_conbustible.values())} galons\n",
    "    \"\"\"\n",
    "\n",
    "print(informeMision(\"Moon\", 10, 15, 51, main=300000, external=200000))"
   ]
  },
  {
   "cell_type": "markdown",
   "metadata": {},
   "source": [
    "3)  actualiza la función para usar el nombre de cada tanque en el informe"
   ]
  },
  {
   "cell_type": "code",
   "execution_count": 12,
   "metadata": {},
   "outputs": [
    {
     "name": "stdout",
     "output_type": "stream",
     "text": [
      "\n",
      "    Mission a Moon\n",
      "    Tiempo de viaje: 76 minutos\n",
      "    Total gasolina: 500000 galons\n",
      "    main tanque ---- 300000 galonesexternal tanque ---- 200000 galones\n"
     ]
    }
   ],
   "source": [
    "def informeMision( destino, *minutos, **reservas_conbustible ):\n",
    "    reporte = f\"\"\"\n",
    "    Mission a {destino}\n",
    "    Tiempo de viaje: {sum(minutos)} minutos\n",
    "    Total gasolina: {sum(reservas_conbustible.values())} galons\n",
    "    \"\"\"\n",
    "\n",
    "    for nombre, galones in reservas_conbustible.items():\n",
    "        reporte+= f'{nombre} tanque ---- {galones} galones'\n",
    "\n",
    "    return reporte\n",
    "\n",
    "print(informeMision(\"Moon\", 10, 15, 51, main=300000, external=200000))"
   ]
  }
 ],
 "metadata": {
  "interpreter": {
   "hash": "2be5faf79681da6f2a61fdfdd5405d65d042280f7fba6178067603e3a2925119"
  },
  "kernelspec": {
   "display_name": "Python 3.10.2 64-bit",
   "language": "python",
   "name": "python3"
  },
  "language_info": {
   "codemirror_mode": {
    "name": "ipython",
    "version": 3
   },
   "file_extension": ".py",
   "mimetype": "text/x-python",
   "name": "python",
   "nbconvert_exporter": "python",
   "pygments_lexer": "ipython3",
   "version": "3.10.2"
  },
  "orig_nbformat": 4
 },
 "nbformat": 4,
 "nbformat_minor": 2
}
